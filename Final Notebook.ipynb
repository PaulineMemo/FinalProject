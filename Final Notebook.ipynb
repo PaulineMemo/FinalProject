{
 "cells": [
  {
   "cell_type": "code",
   "execution_count": 1,
   "id": "ea0e08ab",
   "metadata": {},
   "outputs": [],
   "source": [
    "import pandas as pd\n",
    "import numpy as np\n",
    "import matplotlib.pyplot as plt\n",
    "import seaborn as sns\n",
    "import warnings\n",
    "warnings.filterwarnings('ignore')"
   ]
  },
  {
   "cell_type": "code",
   "execution_count": 2,
   "id": "df537189",
   "metadata": {},
   "outputs": [
    {
     "data": {
      "text/html": [
       "<div>\n",
       "<style scoped>\n",
       "    .dataframe tbody tr th:only-of-type {\n",
       "        vertical-align: middle;\n",
       "    }\n",
       "\n",
       "    .dataframe tbody tr th {\n",
       "        vertical-align: top;\n",
       "    }\n",
       "\n",
       "    .dataframe thead th {\n",
       "        text-align: right;\n",
       "    }\n",
       "</style>\n",
       "<table border=\"1\" class=\"dataframe\">\n",
       "  <thead>\n",
       "    <tr style=\"text-align: right;\">\n",
       "      <th></th>\n",
       "      <th>Locality</th>\n",
       "      <th>Type</th>\n",
       "      <th>Rent/Month</th>\n",
       "      <th>Build_up_area(sq.ft)</th>\n",
       "      <th>Furnishing</th>\n",
       "      <th>Bathrooms</th>\n",
       "      <th>Balcony</th>\n",
       "      <th>Parking</th>\n",
       "      <th>Carpet_area(sq.ft)</th>\n",
       "    </tr>\n",
       "  </thead>\n",
       "  <tbody>\n",
       "    <tr>\n",
       "      <th>0</th>\n",
       "      <td>Karen</td>\n",
       "      <td>3 BHK Apartment</td>\n",
       "      <td>500000</td>\n",
       "      <td>1500 sq.ft</td>\n",
       "      <td>Unfurnished</td>\n",
       "      <td>3</td>\n",
       "      <td>3</td>\n",
       "      <td>1.0</td>\n",
       "      <td>1300 sq.ft</td>\n",
       "    </tr>\n",
       "    <tr>\n",
       "      <th>1</th>\n",
       "      <td>Karen</td>\n",
       "      <td>3 BHK Apartment</td>\n",
       "      <td>500000</td>\n",
       "      <td>2200 sq.ft</td>\n",
       "      <td>Fully Furnished</td>\n",
       "      <td>3</td>\n",
       "      <td>1</td>\n",
       "      <td>2.0</td>\n",
       "      <td>1500 sq.ft</td>\n",
       "    </tr>\n",
       "    <tr>\n",
       "      <th>2</th>\n",
       "      <td>Karen</td>\n",
       "      <td>3 BHK Apartment</td>\n",
       "      <td>450000</td>\n",
       "      <td>2250 sq.ft</td>\n",
       "      <td>Unfurnished</td>\n",
       "      <td>4</td>\n",
       "      <td>Missing</td>\n",
       "      <td>0.0</td>\n",
       "      <td>2000 sq.ft</td>\n",
       "    </tr>\n",
       "    <tr>\n",
       "      <th>3</th>\n",
       "      <td>Karen</td>\n",
       "      <td>3 BHK Apartment</td>\n",
       "      <td>450000</td>\n",
       "      <td>2880 sq.ft</td>\n",
       "      <td>Unfurnished</td>\n",
       "      <td>4</td>\n",
       "      <td>Missing</td>\n",
       "      <td>0.0</td>\n",
       "      <td>2500 sq.ft</td>\n",
       "    </tr>\n",
       "    <tr>\n",
       "      <th>4</th>\n",
       "      <td>Karen</td>\n",
       "      <td>3 BHK Apartment</td>\n",
       "      <td>425000</td>\n",
       "      <td>2880 sq.ft</td>\n",
       "      <td>Unfurnished</td>\n",
       "      <td>3</td>\n",
       "      <td>1</td>\n",
       "      <td>2.0</td>\n",
       "      <td>2200 sq.ft</td>\n",
       "    </tr>\n",
       "  </tbody>\n",
       "</table>\n",
       "</div>"
      ],
      "text/plain": [
       "  Locality             Type  Rent/Month Build_up_area(sq.ft)       Furnishing  \\\n",
       "0    Karen  3 BHK Apartment      500000           1500 sq.ft      Unfurnished   \n",
       "1    Karen  3 BHK Apartment      500000           2200 sq.ft  Fully Furnished   \n",
       "2    Karen  3 BHK Apartment      450000           2250 sq.ft      Unfurnished   \n",
       "3    Karen  3 BHK Apartment      450000           2880 sq.ft      Unfurnished   \n",
       "4    Karen  3 BHK Apartment      425000           2880 sq.ft      Unfurnished   \n",
       "\n",
       "  Bathrooms  Balcony  Parking Carpet_area(sq.ft)  \n",
       "0         3        3      1.0         1300 sq.ft  \n",
       "1         3        1      2.0         1500 sq.ft  \n",
       "2         4  Missing      0.0         2000 sq.ft  \n",
       "3         4  Missing      0.0         2500 sq.ft  \n",
       "4         3        1      2.0         2200 sq.ft  "
      ]
     },
     "execution_count": 2,
     "metadata": {},
     "output_type": "execute_result"
    }
   ],
   "source": [
    "df=pd.read_csv('House_rent_pred.csv')\n",
    "df.head()"
   ]
  },
  {
   "cell_type": "code",
   "execution_count": 3,
   "id": "fd3a3a3a",
   "metadata": {},
   "outputs": [
    {
     "data": {
      "text/plain": [
       "(8720, 9)"
      ]
     },
     "execution_count": 3,
     "metadata": {},
     "output_type": "execute_result"
    }
   ],
   "source": [
    "df.shape\n"
   ]
  },
  {
   "cell_type": "code",
   "execution_count": 4,
   "id": "a58b5685",
   "metadata": {},
   "outputs": [
    {
     "name": "stdout",
     "output_type": "stream",
     "text": [
      "<class 'pandas.core.frame.DataFrame'>\n",
      "RangeIndex: 8720 entries, 0 to 8719\n",
      "Data columns (total 9 columns):\n",
      " #   Column                Non-Null Count  Dtype  \n",
      "---  ------                --------------  -----  \n",
      " 0   Locality              8720 non-null   object \n",
      " 1   Type                  8720 non-null   object \n",
      " 2   Rent/Month            8720 non-null   int64  \n",
      " 3   Build_up_area(sq.ft)  8720 non-null   object \n",
      " 4   Furnishing            8720 non-null   object \n",
      " 5   Bathrooms             8720 non-null   object \n",
      " 6   Balcony               8720 non-null   object \n",
      " 7   Parking               8698 non-null   float64\n",
      " 8   Carpet_area(sq.ft)    8720 non-null   object \n",
      "dtypes: float64(1), int64(1), object(7)\n",
      "memory usage: 613.2+ KB\n"
     ]
    }
   ],
   "source": [
    "df.info()"
   ]
  },
  {
   "cell_type": "code",
   "execution_count": 5,
   "id": "43e4d0ee",
   "metadata": {},
   "outputs": [
    {
     "data": {
      "text/plain": [
       "array(['3', '4', '2', 'Missing', '6', '5', '1'], dtype=object)"
      ]
     },
     "execution_count": 5,
     "metadata": {},
     "output_type": "execute_result"
    }
   ],
   "source": [
    "df.Bathrooms.unique()"
   ]
  },
  {
   "cell_type": "code",
   "execution_count": 6,
   "id": "23de1197",
   "metadata": {},
   "outputs": [],
   "source": [
    "df.Bathrooms.replace(\"Missing\",np.nan, inplace=True)"
   ]
  },
  {
   "cell_type": "code",
   "execution_count": 7,
   "id": "9b0bf37a",
   "metadata": {},
   "outputs": [
    {
     "data": {
      "text/plain": [
       "array(['3', '4', '2', nan, '6', '5', '1'], dtype=object)"
      ]
     },
     "execution_count": 7,
     "metadata": {},
     "output_type": "execute_result"
    }
   ],
   "source": [
    "df.Bathrooms.unique()"
   ]
  },
  {
   "cell_type": "code",
   "execution_count": 8,
   "id": "1fdf0684",
   "metadata": {},
   "outputs": [
    {
     "data": {
      "text/plain": [
       "array(['3', '1', 'Missing', '2', '4', '5', '6'], dtype=object)"
      ]
     },
     "execution_count": 8,
     "metadata": {},
     "output_type": "execute_result"
    }
   ],
   "source": [
    "df.Balcony.unique()"
   ]
  },
  {
   "cell_type": "code",
   "execution_count": 9,
   "id": "42698f9b",
   "metadata": {},
   "outputs": [],
   "source": [
    "df.Balcony.replace(\"Missing\", np.nan, inplace=True)"
   ]
  },
  {
   "cell_type": "code",
   "execution_count": 10,
   "id": "640b3e8a",
   "metadata": {},
   "outputs": [
    {
     "data": {
      "text/plain": [
       "array(['3', '1', nan, '2', '4', '5', '6'], dtype=object)"
      ]
     },
     "execution_count": 10,
     "metadata": {},
     "output_type": "execute_result"
    }
   ],
   "source": [
    "df.Balcony.unique()"
   ]
  },
  {
   "cell_type": "code",
   "execution_count": 11,
   "id": "640c524e",
   "metadata": {},
   "outputs": [],
   "source": [
    "df['Build_up_area(sq.ft)']=df['Build_up_area(sq.ft)'].str.split().str[0]"
   ]
  },
  {
   "cell_type": "code",
   "execution_count": 12,
   "id": "196c79e7",
   "metadata": {},
   "outputs": [],
   "source": [
    "df['Build_up_area(sq.ft)'] = df['Build_up_area(sq.ft)'].astype('int')"
   ]
  },
  {
   "cell_type": "code",
   "execution_count": 13,
   "id": "a5fae419",
   "metadata": {},
   "outputs": [
    {
     "data": {
      "text/plain": [
       "Locality                 object\n",
       "Type                     object\n",
       "Rent/Month                int64\n",
       "Build_up_area(sq.ft)      int32\n",
       "Furnishing               object\n",
       "Bathrooms                object\n",
       "Balcony                  object\n",
       "Parking                 float64\n",
       "Carpet_area(sq.ft)       object\n",
       "dtype: object"
      ]
     },
     "execution_count": 13,
     "metadata": {},
     "output_type": "execute_result"
    }
   ],
   "source": [
    "df.dtypes"
   ]
  },
  {
   "cell_type": "code",
   "execution_count": 14,
   "id": "88743c3d",
   "metadata": {},
   "outputs": [],
   "source": [
    "df[\"Carpet_area(sq.ft)\"].replace(\"Missing\",0, inplace=True)"
   ]
  },
  {
   "cell_type": "code",
   "execution_count": 15,
   "id": "b58080f5",
   "metadata": {},
   "outputs": [],
   "source": [
    "df['Carpet_area(sq.ft)']=df['Carpet_area(sq.ft)'].str.split().str[0]"
   ]
  },
  {
   "cell_type": "code",
   "execution_count": 16,
   "id": "83fbc430",
   "metadata": {},
   "outputs": [],
   "source": [
    "def to_num(s):\n",
    "    if type(s)==str:\n",
    "        return int(s)\n",
    "    else:\n",
    "        return s"
   ]
  },
  {
   "cell_type": "code",
   "execution_count": 17,
   "id": "167ce0cd",
   "metadata": {},
   "outputs": [],
   "source": [
    "df['Carpet_area(sq.ft)']=df['Carpet_area(sq.ft)'].apply(to_num)"
   ]
  },
  {
   "cell_type": "code",
   "execution_count": 18,
   "id": "e6ba40db",
   "metadata": {},
   "outputs": [
    {
     "data": {
      "text/plain": [
       "<AxesSubplot:>"
      ]
     },
     "execution_count": 18,
     "metadata": {},
     "output_type": "execute_result"
    },
    {
     "data": {
      "image/png": "[encoded data removed]",
      "text/plain": [
       "<Figure size 432x288 with 2 Axes>"
      ]
     },
     "metadata": {
      "needs_background": "light"
     },
     "output_type": "display_data"
    }
   ],
   "source": [
    "sns.heatmap(df.corr(),annot=True)"
   ]
  },
  {
   "cell_type": "markdown",
   "id": "02225056",
   "metadata": {},
   "source": [
    "Build_up_area and Carpet area are strongly correlated with each other so dropping Carpet area column"
   ]
  },
  {
   "cell_type": "code",
   "execution_count": 19,
   "id": "cca9f810",
   "metadata": {},
   "outputs": [],
   "source": [
    "df.drop('Carpet_area(sq.ft)',axis=1,inplace=True)"
   ]
  },
  {
   "cell_type": "code",
   "execution_count": 20,
   "id": "e4172999",
   "metadata": {},
   "outputs": [
    {
     "data": {
      "text/html": [
       "<div>\n",
       "<style scoped>\n",
       "    .dataframe tbody tr th:only-of-type {\n",
       "        vertical-align: middle;\n",
       "    }\n",
       "\n",
       "    .dataframe tbody tr th {\n",
       "        vertical-align: top;\n",
       "    }\n",
       "\n",
       "    .dataframe thead th {\n",
       "        text-align: right;\n",
       "    }\n",
       "</style>\n",
       "<table border=\"1\" class=\"dataframe\">\n",
       "  <thead>\n",
       "    <tr style=\"text-align: right;\">\n",
       "      <th></th>\n",
       "      <th>count</th>\n",
       "      <th>mean</th>\n",
       "      <th>std</th>\n",
       "      <th>min</th>\n",
       "      <th>25%</th>\n",
       "      <th>50%</th>\n",
       "      <th>75%</th>\n",
       "      <th>max</th>\n",
       "    </tr>\n",
       "  </thead>\n",
       "  <tbody>\n",
       "    <tr>\n",
       "      <th>Rent/Month</th>\n",
       "      <td>8720.0</td>\n",
       "      <td>35782.142775</td>\n",
       "      <td>40815.357631</td>\n",
       "      <td>7000.0</td>\n",
       "      <td>12000.0</td>\n",
       "      <td>18000.0</td>\n",
       "      <td>40000.0</td>\n",
       "      <td>500000.0</td>\n",
       "    </tr>\n",
       "    <tr>\n",
       "      <th>Build_up_area(sq.ft)</th>\n",
       "      <td>8720.0</td>\n",
       "      <td>867.963417</td>\n",
       "      <td>414.111511</td>\n",
       "      <td>145.0</td>\n",
       "      <td>560.0</td>\n",
       "      <td>800.0</td>\n",
       "      <td>1100.0</td>\n",
       "      <td>3520.0</td>\n",
       "    </tr>\n",
       "    <tr>\n",
       "      <th>Parking</th>\n",
       "      <td>8698.0</td>\n",
       "      <td>0.918257</td>\n",
       "      <td>0.678594</td>\n",
       "      <td>0.0</td>\n",
       "      <td>0.0</td>\n",
       "      <td>1.0</td>\n",
       "      <td>1.0</td>\n",
       "      <td>4.0</td>\n",
       "    </tr>\n",
       "  </tbody>\n",
       "</table>\n",
       "</div>"
      ],
      "text/plain": [
       "                       count          mean           std     min      25%  \\\n",
       "Rent/Month            8720.0  35782.142775  40815.357631  7000.0  12000.0   \n",
       "Build_up_area(sq.ft)  8720.0    867.963417    414.111511   145.0    560.0   \n",
       "Parking               8698.0      0.918257      0.678594     0.0      0.0   \n",
       "\n",
       "                          50%      75%       max  \n",
       "Rent/Month            18000.0  40000.0  500000.0  \n",
       "Build_up_area(sq.ft)    800.0   1100.0    3520.0  \n",
       "Parking                   1.0      1.0       4.0  "
      ]
     },
     "execution_count": 20,
     "metadata": {},
     "output_type": "execute_result"
    }
   ],
   "source": [
    "df.describe(). T"
   ]
  },
  {
   "cell_type": "code",
   "execution_count": 21,
   "id": "0d155f64",
   "metadata": {},
   "outputs": [
    {
     "data": {
      "text/plain": [
       "Locality                   0\n",
       "Type                       0\n",
       "Rent/Month                 0\n",
       "Build_up_area(sq.ft)       0\n",
       "Furnishing                 0\n",
       "Bathrooms                224\n",
       "Balcony                 5535\n",
       "Parking                   22\n",
       "dtype: int64"
      ]
     },
     "execution_count": 21,
     "metadata": {},
     "output_type": "execute_result"
    }
   ],
   "source": [
    "df.isna().sum()"
   ]
  },
  {
   "cell_type": "code",
   "execution_count": 22,
   "id": "ab66332c",
   "metadata": {},
   "outputs": [
    {
     "data": {
      "text/plain": [
       "1.0"
      ]
     },
     "execution_count": 22,
     "metadata": {},
     "output_type": "execute_result"
    }
   ],
   "source": [
    "df.Parking.mode()[0]"
   ]
  },
  {
   "cell_type": "code",
   "execution_count": 23,
   "id": "f9b23656",
   "metadata": {},
   "outputs": [],
   "source": [
    "df.Parking.fillna(df.Parking.mode()[0],inplace=True)"
   ]
  },
  {
   "cell_type": "code",
   "execution_count": 24,
   "id": "4e93551c",
   "metadata": {},
   "outputs": [
    {
     "data": {
      "text/plain": [
       "'1'"
      ]
     },
     "execution_count": 24,
     "metadata": {},
     "output_type": "execute_result"
    }
   ],
   "source": [
    "df[df.Type=='1 RK Apartment']['Bathrooms'].mode()[0]"
   ]
  },
  {
   "cell_type": "code",
   "execution_count": 25,
   "id": "3af05fe6",
   "metadata": {},
   "outputs": [
    {
     "data": {
      "text/plain": [
       "Int64Index([2429, 3846, 4655, 4656, 4715, 6092, 6191, 6246, 6247, 6248, 6327,\n",
       "            6411, 6619, 6804, 6995, 7053, 7055, 7158, 7167, 7664, 7690, 7775,\n",
       "            7779, 7921, 7938, 7988, 8047, 8077, 8146, 8150, 8151, 8171, 8235,\n",
       "            8246, 8259, 8260, 8269, 8283, 8296, 8368, 8417, 8418, 8473, 8478,\n",
       "            8479, 8549, 8555, 8557, 8561, 8578, 8602, 8606, 8621, 8639, 8648,\n",
       "            8666, 8671, 8675, 8679, 8704, 8712, 8717, 8718],\n",
       "           dtype='int64')"
      ]
     },
     "execution_count": 25,
     "metadata": {},
     "output_type": "execute_result"
    }
   ],
   "source": [
    "i = df[(df.Type=='1 RK Apartment')&(df.Bathrooms.isna())].index\n",
    "i"
   ]
  },
  {
   "cell_type": "code",
   "execution_count": 26,
   "id": "ddc70fcb",
   "metadata": {},
   "outputs": [],
   "source": [
    "df.loc[i,'Bathrooms'] = 1"
   ]
  },
  {
   "cell_type": "code",
   "execution_count": 27,
   "id": "b0409679",
   "metadata": {},
   "outputs": [
    {
     "data": {
      "text/plain": [
       "'1'"
      ]
     },
     "execution_count": 27,
     "metadata": {},
     "output_type": "execute_result"
    }
   ],
   "source": [
    "df[df.Type=='1 BHK Apartment']['Bathrooms'].mode()[0]"
   ]
  },
  {
   "cell_type": "code",
   "execution_count": 28,
   "id": "7a99d172",
   "metadata": {},
   "outputs": [
    {
     "data": {
      "text/plain": [
       "Int64Index([2401, 2403, 2552, 2832, 3199, 3291, 3369, 3639, 4145, 4206, 4299,\n",
       "            4667, 4747, 4775, 5113, 5210, 5638, 5884, 5960, 6007, 6037, 6090,\n",
       "            6183, 6189, 6298, 6300, 6357, 6362, 6436, 6461, 6513, 6535, 6560,\n",
       "            6613, 6678, 6684, 6707, 6729, 6741, 6799, 6801, 6811, 6815, 6872,\n",
       "            6908, 6950, 6961, 7033, 7072, 7089, 7090, 7297, 7396, 7478, 7490,\n",
       "            7493, 7505, 7521, 7651, 7731, 7741, 7742, 7761, 7768, 7773, 7798,\n",
       "            7883, 7885, 7944, 7957, 7961, 7971, 7992, 8008, 8040, 8085, 8234,\n",
       "            8291, 8330, 8359, 8361, 8394, 8409, 8420, 8435, 8523, 8524],\n",
       "           dtype='int64')"
      ]
     },
     "execution_count": 28,
     "metadata": {},
     "output_type": "execute_result"
    }
   ],
   "source": [
    "i = df[(df.Type=='1 BHK Apartment')&(df.Bathrooms.isna())].index\n",
    "i\n"
   ]
  },
  {
   "cell_type": "code",
   "execution_count": 29,
   "id": "a3edb2e8",
   "metadata": {},
   "outputs": [],
   "source": [
    "df.loc[i,'Bathrooms'] = 1"
   ]
  },
  {
   "cell_type": "code",
   "execution_count": 30,
   "id": "a9ec0b5a",
   "metadata": {},
   "outputs": [
    {
     "data": {
      "text/plain": [
       "0    2\n",
       "dtype: object"
      ]
     },
     "execution_count": 30,
     "metadata": {},
     "output_type": "execute_result"
    }
   ],
   "source": [
    "df[df.Type=='2 BHK Apartment']['Bathrooms'].mode()"
   ]
  },
  {
   "cell_type": "code",
   "execution_count": 31,
   "id": "b45f68a2",
   "metadata": {},
   "outputs": [
    {
     "data": {
      "text/plain": [
       "Int64Index([ 600,  691,  736, 1022, 1308, 1309, 1310, 1350, 1427, 1525, 1571,\n",
       "            1618, 1732, 1875, 1876, 1877, 1878, 1879, 1880, 2027, 2111, 2145,\n",
       "            2508, 2520, 2659, 2808, 2974, 3067, 3209, 3255, 3358, 3679, 3836,\n",
       "            4596, 4681, 4794, 5041, 5042, 5045, 5184, 5445, 5446, 5447, 5448,\n",
       "            5449, 5514, 5515, 5517, 5522, 5585, 5932, 6299, 6309, 6344, 6880,\n",
       "            7091, 7809],\n",
       "           dtype='int64')"
      ]
     },
     "execution_count": 31,
     "metadata": {},
     "output_type": "execute_result"
    }
   ],
   "source": [
    "i = df[(df.Type=='2 BHK Apartment')&(df.Bathrooms.isna())].index\n",
    "i"
   ]
  },
  {
   "cell_type": "code",
   "execution_count": 32,
   "id": "1f4fac82",
   "metadata": {},
   "outputs": [],
   "source": [
    "df.loc[i,'Bathrooms'] = 2"
   ]
  },
  {
   "cell_type": "code",
   "execution_count": 33,
   "id": "c735c318",
   "metadata": {},
   "outputs": [
    {
     "data": {
      "text/plain": [
       "0    3\n",
       "dtype: object"
      ]
     },
     "execution_count": 33,
     "metadata": {},
     "output_type": "execute_result"
    }
   ],
   "source": [
    "df[df.Type=='3 BHK Apartment']['Bathrooms'].mode()"
   ]
  },
  {
   "cell_type": "code",
   "execution_count": 34,
   "id": "5d0c7661",
   "metadata": {},
   "outputs": [
    {
     "data": {
      "text/plain": [
       "Int64Index([  20,   21,   50,   74,  185,  186,  245,  264,  499,  797,  805,\n",
       "            1001, 1163, 1557, 2357, 3156, 5098],\n",
       "           dtype='int64')"
      ]
     },
     "execution_count": 34,
     "metadata": {},
     "output_type": "execute_result"
    }
   ],
   "source": [
    "i = df[(df.Type=='3 BHK Apartment')&(df.Bathrooms.isna())].index\n",
    "i\n"
   ]
  },
  {
   "cell_type": "code",
   "execution_count": 35,
   "id": "f38e511f",
   "metadata": {},
   "outputs": [],
   "source": [
    "df.loc[i,'Bathrooms']=3"
   ]
  },
  {
   "cell_type": "code",
   "execution_count": 36,
   "id": "d9bd82dc",
   "metadata": {},
   "outputs": [
    {
     "data": {
      "text/plain": [
       "'1'"
      ]
     },
     "execution_count": 36,
     "metadata": {},
     "output_type": "execute_result"
    }
   ],
   "source": [
    "df.Balcony.mode()[0]"
   ]
  },
  {
   "cell_type": "code",
   "execution_count": 37,
   "id": "5d615102",
   "metadata": {},
   "outputs": [],
   "source": [
    "df.Balcony.fillna(df.Balcony.mode()[0],inplace=True)"
   ]
  },
  {
   "cell_type": "code",
   "execution_count": 38,
   "id": "af10eab7",
   "metadata": {},
   "outputs": [
    {
     "data": {
      "text/plain": [
       "Locality                0\n",
       "Type                    0\n",
       "Rent/Month              0\n",
       "Build_up_area(sq.ft)    0\n",
       "Furnishing              0\n",
       "Bathrooms               0\n",
       "Balcony                 0\n",
       "Parking                 0\n",
       "dtype: int64"
      ]
     },
     "execution_count": 38,
     "metadata": {},
     "output_type": "execute_result"
    }
   ],
   "source": [
    "df.isna().sum()"
   ]
  },
  {
   "cell_type": "code",
   "execution_count": 39,
   "id": "fce59b9c",
   "metadata": {},
   "outputs": [
    {
     "data": {
      "text/plain": [
       "Locality                 object\n",
       "Type                     object\n",
       "Rent/Month                int64\n",
       "Build_up_area(sq.ft)      int32\n",
       "Furnishing               object\n",
       "Bathrooms                object\n",
       "Balcony                  object\n",
       "Parking                 float64\n",
       "dtype: object"
      ]
     },
     "execution_count": 39,
     "metadata": {},
     "output_type": "execute_result"
    }
   ],
   "source": [
    "df.dtypes"
   ]
  },
  {
   "cell_type": "code",
   "execution_count": 40,
   "id": "098f4e7a",
   "metadata": {},
   "outputs": [],
   "source": [
    "df.Balcony = df.Balcony.astype('int')\n",
    "df.Bathrooms = df.Bathrooms.astype('int')"
   ]
  },
  {
   "cell_type": "code",
   "execution_count": 41,
   "id": "5ff1b1cd",
   "metadata": {},
   "outputs": [
    {
     "data": {
      "text/plain": [
       "Locality                 object\n",
       "Type                     object\n",
       "Rent/Month                int64\n",
       "Build_up_area(sq.ft)      int32\n",
       "Furnishing               object\n",
       "Bathrooms                 int32\n",
       "Balcony                   int32\n",
       "Parking                 float64\n",
       "dtype: object"
      ]
     },
     "execution_count": 41,
     "metadata": {},
     "output_type": "execute_result"
    }
   ],
   "source": [
    "df.dtypes"
   ]
  },
  {
   "cell_type": "markdown",
   "id": "1da9b534",
   "metadata": {},
   "source": [
    "### Checking Outliers"
   ]
  },
  {
   "cell_type": "code",
   "execution_count": 42,
   "id": "ac1eac4b",
   "metadata": {},
   "outputs": [
    {
     "data": {
      "image/png": "[encoded data removed]",
      "text/plain": [
       "<Figure size 1080x576 with 5 Axes>"
      ]
     },
     "metadata": {
      "needs_background": "light"
     },
     "output_type": "display_data"
    }
   ],
   "source": [
    "i=1\n",
    "plt.figure(figsize=(15,8))\n",
    "for x in df.columns:\n",
    "    if df[x].dtypes != 'O':\n",
    "        plt.subplot(2,3,i)\n",
    "        plt.title(x)\n",
    "        sns.boxplot(y=df[x])\n",
    "        i+=1"
   ]
  },
  {
   "cell_type": "code",
   "execution_count": 43,
   "id": "7b7acd75",
   "metadata": {},
   "outputs": [
    {
     "data": {
      "text/plain": [
       "Int64Index([0, 1, 2, 3, 4], dtype='int64')"
      ]
     },
     "execution_count": 43,
     "metadata": {},
     "output_type": "execute_result"
    }
   ],
   "source": [
    "# funnction to return index for column that have data points greater than given limit\n",
    "def outs(df,col,limit):\n",
    "    index = []\n",
    "    index = df[df[col]>limit].index\n",
    "\n",
    "    return index\n",
    "\n",
    "ind = outs(df,'Rent/Month',400000)\n",
    "ind"
   ]
  },
  {
   "cell_type": "code",
   "execution_count": 44,
   "id": "b82d74ed",
   "metadata": {},
   "outputs": [
    {
     "data": {
      "text/html": [
       "<div>\n",
       "<style scoped>\n",
       "    .dataframe tbody tr th:only-of-type {\n",
       "        vertical-align: middle;\n",
       "    }\n",
       "\n",
       "    .dataframe tbody tr th {\n",
       "        vertical-align: top;\n",
       "    }\n",
       "\n",
       "    .dataframe thead th {\n",
       "        text-align: right;\n",
       "    }\n",
       "</style>\n",
       "<table border=\"1\" class=\"dataframe\">\n",
       "  <thead>\n",
       "    <tr style=\"text-align: right;\">\n",
       "      <th></th>\n",
       "      <th>Locality</th>\n",
       "      <th>Type</th>\n",
       "      <th>Rent/Month</th>\n",
       "      <th>Build_up_area(sq.ft)</th>\n",
       "      <th>Furnishing</th>\n",
       "      <th>Bathrooms</th>\n",
       "      <th>Balcony</th>\n",
       "      <th>Parking</th>\n",
       "    </tr>\n",
       "  </thead>\n",
       "  <tbody>\n",
       "    <tr>\n",
       "      <th>0</th>\n",
       "      <td>Karen</td>\n",
       "      <td>3 BHK Apartment</td>\n",
       "      <td>500000</td>\n",
       "      <td>1500</td>\n",
       "      <td>Unfurnished</td>\n",
       "      <td>3</td>\n",
       "      <td>3</td>\n",
       "      <td>1.0</td>\n",
       "    </tr>\n",
       "    <tr>\n",
       "      <th>1</th>\n",
       "      <td>Karen</td>\n",
       "      <td>3 BHK Apartment</td>\n",
       "      <td>500000</td>\n",
       "      <td>2200</td>\n",
       "      <td>Fully Furnished</td>\n",
       "      <td>3</td>\n",
       "      <td>1</td>\n",
       "      <td>2.0</td>\n",
       "    </tr>\n",
       "    <tr>\n",
       "      <th>2</th>\n",
       "      <td>Karen</td>\n",
       "      <td>3 BHK Apartment</td>\n",
       "      <td>450000</td>\n",
       "      <td>2250</td>\n",
       "      <td>Unfurnished</td>\n",
       "      <td>4</td>\n",
       "      <td>1</td>\n",
       "      <td>0.0</td>\n",
       "    </tr>\n",
       "    <tr>\n",
       "      <th>3</th>\n",
       "      <td>Karen</td>\n",
       "      <td>3 BHK Apartment</td>\n",
       "      <td>450000</td>\n",
       "      <td>2880</td>\n",
       "      <td>Unfurnished</td>\n",
       "      <td>4</td>\n",
       "      <td>1</td>\n",
       "      <td>0.0</td>\n",
       "    </tr>\n",
       "    <tr>\n",
       "      <th>4</th>\n",
       "      <td>Karen</td>\n",
       "      <td>3 BHK Apartment</td>\n",
       "      <td>425000</td>\n",
       "      <td>2880</td>\n",
       "      <td>Unfurnished</td>\n",
       "      <td>3</td>\n",
       "      <td>1</td>\n",
       "      <td>2.0</td>\n",
       "    </tr>\n",
       "  </tbody>\n",
       "</table>\n",
       "</div>"
      ],
      "text/plain": [
       "  Locality             Type  Rent/Month  Build_up_area(sq.ft)  \\\n",
       "0    Karen  3 BHK Apartment      500000                  1500   \n",
       "1    Karen  3 BHK Apartment      500000                  2200   \n",
       "2    Karen  3 BHK Apartment      450000                  2250   \n",
       "3    Karen  3 BHK Apartment      450000                  2880   \n",
       "4    Karen  3 BHK Apartment      425000                  2880   \n",
       "\n",
       "        Furnishing  Bathrooms  Balcony  Parking  \n",
       "0      Unfurnished          3        3      1.0  \n",
       "1  Fully Furnished          3        1      2.0  \n",
       "2      Unfurnished          4        1      0.0  \n",
       "3      Unfurnished          4        1      0.0  \n",
       "4      Unfurnished          3        1      2.0  "
      ]
     },
     "execution_count": 44,
     "metadata": {},
     "output_type": "execute_result"
    }
   ],
   "source": [
    "df[df['Rent/Month']>400000]"
   ]
  },
  {
   "cell_type": "markdown",
   "id": "b847639d",
   "metadata": {},
   "source": [
    "##### Plotting total aprtment rent for each type"
   ]
  },
  {
   "cell_type": "code",
   "execution_count": 45,
   "id": "3f9be79d",
   "metadata": {},
   "outputs": [
    {
     "data": {
      "image/png": "[encoded data removed]",
      "text/plain": [
       "<Figure size 432x288 with 1 Axes>"
      ]
     },
     "metadata": {
      "needs_background": "light"
     },
     "output_type": "display_data"
    }
   ],
   "source": [
    "sns.countplot(y=df.Type)\n",
    "plt.show()"
   ]
  },
  {
   "cell_type": "code",
   "execution_count": 46,
   "id": "99a35a56",
   "metadata": {},
   "outputs": [
    {
     "data": {
      "text/plain": [
       "Type\n",
       "3 BHK Apartment    90056.731410\n",
       "2 BHK Apartment    36014.715833\n",
       "1 BHK Apartment    13896.450724\n",
       "1 RK Apartment      9681.331748\n",
       "Name: Rent/Month, dtype: float64"
      ]
     },
     "execution_count": 46,
     "metadata": {},
     "output_type": "execute_result"
    }
   ],
   "source": [
    "df.groupby('Type')['Rent/Month'].mean().sort_values(ascending=False)"
   ]
  },
  {
   "cell_type": "code",
   "execution_count": 47,
   "id": "d572fdd2",
   "metadata": {},
   "outputs": [
    {
     "data": {
      "image/png": "[encoded data removed]",
      "text/plain": [
       "<Figure size 432x288 with 1 Axes>"
      ]
     },
     "metadata": {
      "needs_background": "light"
     },
     "output_type": "display_data"
    }
   ],
   "source": [
    "sns.barplot(y=df.groupby('Type')['Rent/Month'].mean().sort_values(ascending=False).index,x=df.groupby('Type')['Rent/Month'].mean().sort_values(ascending=False).values)\n",
    "plt.show()"
   ]
  },
  {
   "cell_type": "markdown",
   "id": "be7ac7ac",
   "metadata": {},
   "source": [
    "#### Average rent foro each locality"
   ]
  },
  {
   "cell_type": "code",
   "execution_count": 48,
   "id": "f51f47e8",
   "metadata": {},
   "outputs": [
    {
     "data": {
      "image/png": "[encoded data removed]",
      "text/plain": [
       "<Figure size 720x864 with 1 Axes>"
      ]
     },
     "metadata": {
      "needs_background": "light"
     },
     "output_type": "display_data"
    }
   ],
   "source": [
    "plt.figure(figsize=(10,12))\n",
    "sns.barplot(y=df.groupby('Locality')['Rent/Month'].mean().sort_values(ascending=False).index,x=df.groupby('Locality')['Rent/Month'].mean().sort_values(ascending=False).values)\n",
    "plt.show()"
   ]
  },
  {
   "cell_type": "code",
   "execution_count": 49,
   "id": "d80d6f0e",
   "metadata": {},
   "outputs": [
    {
     "data": {
      "image/png": "[encoded data removed]",
      "text/plain": [
       "<Figure size 432x288 with 1 Axes>"
      ]
     },
     "metadata": {
      "needs_background": "light"
     },
     "output_type": "display_data"
    }
   ],
   "source": [
    "sns.barplot(y=df.groupby('Furnishing')['Rent/Month'].median().sort_values(ascending=False).index,x=df.groupby('Furnishing')['Rent/Month'].median().sort_values(ascending=False).values)\n",
    "plt.show()"
   ]
  },
  {
   "cell_type": "code",
   "execution_count": 50,
   "id": "cd4a1a22",
   "metadata": {},
   "outputs": [
    {
     "data": {
      "image/png": "[encoded data removed]",
      "text/plain": [
       "<Figure size 1440x720 with 4 Axes>"
      ]
     },
     "metadata": {
      "needs_background": "light"
     },
     "output_type": "display_data"
    }
   ],
   "source": [
    "plt.figure(figsize=(20,10))\n",
    "\n",
    "plt.subplot(2,2,1)\n",
    "sns.barplot(y=df[df.Type=='1 RK Apartment'].groupby('Locality')['Rent/Month'].mean().sort_values(ascending=False).head().index,x=df[df.Type=='1 RK Apartment'].groupby('Locality')['Rent/Month'].mean().sort_values(ascending=False).head().values)\n",
    "plt.title('1 RK Apartment')\n",
    "\n",
    "plt.subplot(2,2,2)\n",
    "sns.barplot(y=df[df.Type=='1 BHK Apartment'].groupby('Locality')['Rent/Month'].mean().sort_values(ascending=False).head().index,x=df[df.Type=='1 BHK Apartment'].groupby('Locality')['Rent/Month'].mean().sort_values(ascending=False).head().values)\n",
    "plt.title('1 BHK Apartment')\n",
    "\n",
    "plt.subplot(2,2,3)\n",
    "sns.barplot(y=df[df.Type=='2 BHK Apartment'].groupby('Locality')['Rent/Month'].mean().sort_values(ascending=False).head().index,x=df[df.Type=='2 BHK Apartment'].groupby('Locality')['Rent/Month'].mean().sort_values(ascending=False).head().values)\n",
    "plt.title('2 BHK Apartment')\n",
    "\n",
    "plt.subplot(2,2,4)\n",
    "sns.barplot(y=df[df.Type=='3 BHK Apartment'].groupby('Locality')['Rent/Month'].mean().sort_values(ascending=False).head().index,x=df[df.Type=='3 BHK Apartment'].groupby('Locality')['Rent/Month'].mean().sort_values(ascending=False).head().values)\n",
    "plt.title('3 BHK Apartment')\n",
    "plt.show()"
   ]
  },
  {
   "cell_type": "code",
   "execution_count": 51,
   "id": "56f9a8c5",
   "metadata": {},
   "outputs": [
    {
     "data": {
      "image/png": "[encoded data removed]",
      "text/plain": [
       "<Figure size 1440x720 with 4 Axes>"
      ]
     },
     "metadata": {
      "needs_background": "light"
     },
     "output_type": "display_data"
    }
   ],
   "source": [
    "plt.figure(figsize=(20,10))\n",
    "\n",
    "plt.subplot(2,2,1)\n",
    "sns.barplot(y=df[df.Type=='1 RK Apartment'].groupby('Locality')['Rent/Month'].mean().sort_values(ascending=True).head().index,x=df[df.Type=='1 RK Apartment'].groupby('Locality')['Rent/Month'].mean().sort_values(ascending=True).head().values)\n",
    "plt.title('1 RK Apartment')\n",
    "\n",
    "plt.subplot(2,2,2)\n",
    "sns.barplot(y=df[df.Type=='1 BHK Apartment'].groupby('Locality')['Rent/Month'].mean().sort_values(ascending=True).head().index,x=df[df.Type=='1 BHK Apartment'].groupby('Locality')['Rent/Month'].mean().sort_values(ascending=True).head().values)\n",
    "plt.title('1 BHK Apartment')\n",
    "\n",
    "plt.subplot(2,2,3)\n",
    "sns.barplot(y=df[df.Type=='2 BHK Apartment'].groupby('Locality')['Rent/Month'].mean().sort_values(ascending=True).head().index,x=df[df.Type=='2 BHK Apartment'].groupby('Locality')['Rent/Month'].mean().sort_values(ascending=True).head().values)\n",
    "plt.title('2 BHK Apartment')\n",
    "\n",
    "plt.subplot(2,2,4)\n",
    "sns.barplot(y=df[df.Type=='3 BHK Apartment'].groupby('Locality')['Rent/Month'].mean().sort_values(ascending=True).head().index,x=df[df.Type=='3 BHK Apartment'].groupby('Locality')['Rent/Month'].mean().sort_values(ascending=True).head().values)\n",
    "plt.title('3 BHK Apartment')\n",
    "plt.show()"
   ]
  },
  {
   "cell_type": "code",
   "execution_count": 52,
   "id": "798f6346",
   "metadata": {},
   "outputs": [
    {
     "data": {
      "image/png": "[encoded data removed]",
      "text/plain": [
       "<Figure size 1440x720 with 2 Axes>"
      ]
     },
     "metadata": {
      "needs_background": "light"
     },
     "output_type": "display_data"
    }
   ],
   "source": [
    "plt.figure(figsize=(20,10))\n",
    "\n",
    "plt.subplot(2,2,1)\n",
    "sns.barplot(x=df.groupby('Balcony')['Rent/Month'].mean().sort_values(ascending=True).index,y=df.groupby('Balcony')['Rent/Month'].mean().sort_values(ascending=True).values)\n",
    "plt.title('Balcony')\n",
    "\n",
    "plt.subplot(2,2,2)\n",
    "sns.barplot(x=df.groupby('Parking')['Rent/Month'].mean().sort_values(ascending=True).index,y=df.groupby('Parking')['Rent/Month'].mean().sort_values(ascending=True).values)\n",
    "plt.title('Parking')\n",
    "plt.show()"
   ]
  },
  {
   "cell_type": "code",
   "execution_count": 53,
   "id": "49496a76",
   "metadata": {},
   "outputs": [
    {
     "data": {
      "image/png": "[encoded data removed]",
      "text/plain": [
       "<Figure size 432x288 with 1 Axes>"
      ]
     },
     "metadata": {
      "needs_background": "light"
     },
     "output_type": "display_data"
    }
   ],
   "source": [
    "sns.scatterplot(x=df['Build_up_area(sq.ft)'],y=df['Rent/Month'])\n",
    "plt.show()"
   ]
  },
  {
   "cell_type": "code",
   "execution_count": 54,
   "id": "ac2aa4f5",
   "metadata": {},
   "outputs": [
    {
     "data": {
      "image/png": "[encoded data removed]",
      "text/plain": [
       "<Figure size 720x504 with 1 Axes>"
      ]
     },
     "metadata": {
      "needs_background": "light"
     },
     "output_type": "display_data"
    }
   ],
   "source": [
    "plt.figure(figsize=(10,7))\n",
    "sns.scatterplot(x=df['Build_up_area(sq.ft)'],y=df['Rent/Month'],hue=df.Type)\n",
    "plt.show()"
   ]
  },
  {
   "cell_type": "code",
   "execution_count": 55,
   "id": "decdec3d",
   "metadata": {},
   "outputs": [
    {
     "data": {
      "text/html": [
       "<div>\n",
       "<style scoped>\n",
       "    .dataframe tbody tr th:only-of-type {\n",
       "        vertical-align: middle;\n",
       "    }\n",
       "\n",
       "    .dataframe tbody tr th {\n",
       "        vertical-align: top;\n",
       "    }\n",
       "\n",
       "    .dataframe thead th {\n",
       "        text-align: right;\n",
       "    }\n",
       "</style>\n",
       "<table border=\"1\" class=\"dataframe\">\n",
       "  <thead>\n",
       "    <tr style=\"text-align: right;\">\n",
       "      <th></th>\n",
       "      <th>Locality</th>\n",
       "      <th>Type</th>\n",
       "      <th>Rent/Month</th>\n",
       "      <th>Build_up_area(sq.ft)</th>\n",
       "      <th>Furnishing</th>\n",
       "      <th>Bathrooms</th>\n",
       "      <th>Balcony</th>\n",
       "      <th>Parking</th>\n",
       "    </tr>\n",
       "  </thead>\n",
       "  <tbody>\n",
       "    <tr>\n",
       "      <th>0</th>\n",
       "      <td>Karen</td>\n",
       "      <td>3 BHK Apartment</td>\n",
       "      <td>500000</td>\n",
       "      <td>1500</td>\n",
       "      <td>Unfurnished</td>\n",
       "      <td>3</td>\n",
       "      <td>3</td>\n",
       "      <td>1.0</td>\n",
       "    </tr>\n",
       "    <tr>\n",
       "      <th>1</th>\n",
       "      <td>Karen</td>\n",
       "      <td>3 BHK Apartment</td>\n",
       "      <td>500000</td>\n",
       "      <td>2200</td>\n",
       "      <td>Fully Furnished</td>\n",
       "      <td>3</td>\n",
       "      <td>1</td>\n",
       "      <td>2.0</td>\n",
       "    </tr>\n",
       "    <tr>\n",
       "      <th>2</th>\n",
       "      <td>Karen</td>\n",
       "      <td>3 BHK Apartment</td>\n",
       "      <td>450000</td>\n",
       "      <td>2250</td>\n",
       "      <td>Unfurnished</td>\n",
       "      <td>4</td>\n",
       "      <td>1</td>\n",
       "      <td>0.0</td>\n",
       "    </tr>\n",
       "    <tr>\n",
       "      <th>3</th>\n",
       "      <td>Karen</td>\n",
       "      <td>3 BHK Apartment</td>\n",
       "      <td>450000</td>\n",
       "      <td>2880</td>\n",
       "      <td>Unfurnished</td>\n",
       "      <td>4</td>\n",
       "      <td>1</td>\n",
       "      <td>0.0</td>\n",
       "    </tr>\n",
       "    <tr>\n",
       "      <th>4</th>\n",
       "      <td>Karen</td>\n",
       "      <td>3 BHK Apartment</td>\n",
       "      <td>425000</td>\n",
       "      <td>2880</td>\n",
       "      <td>Unfurnished</td>\n",
       "      <td>3</td>\n",
       "      <td>1</td>\n",
       "      <td>2.0</td>\n",
       "    </tr>\n",
       "    <tr>\n",
       "      <th>...</th>\n",
       "      <td>...</td>\n",
       "      <td>...</td>\n",
       "      <td>...</td>\n",
       "      <td>...</td>\n",
       "      <td>...</td>\n",
       "      <td>...</td>\n",
       "      <td>...</td>\n",
       "      <td>...</td>\n",
       "    </tr>\n",
       "    <tr>\n",
       "      <th>8715</th>\n",
       "      <td>Kahawa west</td>\n",
       "      <td>1 RK Apartment</td>\n",
       "      <td>7000</td>\n",
       "      <td>180</td>\n",
       "      <td>Unfurnished</td>\n",
       "      <td>1</td>\n",
       "      <td>1</td>\n",
       "      <td>0.0</td>\n",
       "    </tr>\n",
       "    <tr>\n",
       "      <th>8716</th>\n",
       "      <td>Kahawa west</td>\n",
       "      <td>1 RK Apartment</td>\n",
       "      <td>7000</td>\n",
       "      <td>180</td>\n",
       "      <td>Unfurnished</td>\n",
       "      <td>1</td>\n",
       "      <td>1</td>\n",
       "      <td>0.0</td>\n",
       "    </tr>\n",
       "    <tr>\n",
       "      <th>8717</th>\n",
       "      <td>Ruaka</td>\n",
       "      <td>1 RK Apartment</td>\n",
       "      <td>13000</td>\n",
       "      <td>300</td>\n",
       "      <td>Unfurnished</td>\n",
       "      <td>1</td>\n",
       "      <td>1</td>\n",
       "      <td>0.0</td>\n",
       "    </tr>\n",
       "    <tr>\n",
       "      <th>8718</th>\n",
       "      <td>Kahawa west</td>\n",
       "      <td>1 RK Apartment</td>\n",
       "      <td>7000</td>\n",
       "      <td>151</td>\n",
       "      <td>Unfurnished</td>\n",
       "      <td>1</td>\n",
       "      <td>1</td>\n",
       "      <td>1.0</td>\n",
       "    </tr>\n",
       "    <tr>\n",
       "      <th>8719</th>\n",
       "      <td>Ruaka</td>\n",
       "      <td>1 RK Apartment</td>\n",
       "      <td>13000</td>\n",
       "      <td>400</td>\n",
       "      <td>Unfurnished</td>\n",
       "      <td>1</td>\n",
       "      <td>1</td>\n",
       "      <td>0.0</td>\n",
       "    </tr>\n",
       "  </tbody>\n",
       "</table>\n",
       "<p>8720 rows × 8 columns</p>\n",
       "</div>"
      ],
      "text/plain": [
       "         Locality             Type  Rent/Month  Build_up_area(sq.ft)  \\\n",
       "0           Karen  3 BHK Apartment      500000                  1500   \n",
       "1           Karen  3 BHK Apartment      500000                  2200   \n",
       "2           Karen  3 BHK Apartment      450000                  2250   \n",
       "3           Karen  3 BHK Apartment      450000                  2880   \n",
       "4           Karen  3 BHK Apartment      425000                  2880   \n",
       "...           ...              ...         ...                   ...   \n",
       "8715  Kahawa west   1 RK Apartment        7000                   180   \n",
       "8716  Kahawa west   1 RK Apartment        7000                   180   \n",
       "8717        Ruaka   1 RK Apartment       13000                   300   \n",
       "8718  Kahawa west   1 RK Apartment        7000                   151   \n",
       "8719        Ruaka   1 RK Apartment       13000                   400   \n",
       "\n",
       "           Furnishing  Bathrooms  Balcony  Parking  \n",
       "0         Unfurnished          3        3      1.0  \n",
       "1     Fully Furnished          3        1      2.0  \n",
       "2         Unfurnished          4        1      0.0  \n",
       "3         Unfurnished          4        1      0.0  \n",
       "4         Unfurnished          3        1      2.0  \n",
       "...               ...        ...      ...      ...  \n",
       "8715      Unfurnished          1        1      0.0  \n",
       "8716      Unfurnished          1        1      0.0  \n",
       "8717      Unfurnished          1        1      0.0  \n",
       "8718      Unfurnished          1        1      1.0  \n",
       "8719      Unfurnished          1        1      0.0  \n",
       "\n",
       "[8720 rows x 8 columns]"
      ]
     },
     "execution_count": 55,
     "metadata": {},
     "output_type": "execute_result"
    }
   ],
   "source": [
    "newdf = df.copy()\n",
    "newdf"
   ]
  },
  {
   "cell_type": "code",
   "execution_count": 56,
   "id": "4ea726d9",
   "metadata": {},
   "outputs": [
    {
     "data": {
      "text/plain": [
       "array([3, 2, 1, 0])"
      ]
     },
     "execution_count": 56,
     "metadata": {},
     "output_type": "execute_result"
    }
   ],
   "source": [
    "from sklearn.preprocessing import LabelEncoder\n",
    "le_type = LabelEncoder()\n",
    "df[\"Type\"]=le_type.fit_transform(df[\"Type\"])\n",
    "df[\"Type\"].unique()"
   ]
  },
  {
   "cell_type": "code",
   "execution_count": 57,
   "id": "16893f68",
   "metadata": {},
   "outputs": [
    {
     "data": {
      "text/plain": [
       "array([1, 0])"
      ]
     },
     "execution_count": 57,
     "metadata": {},
     "output_type": "execute_result"
    }
   ],
   "source": [
    "le_furnishing = LabelEncoder()\n",
    "df[\"Furnishing\"]=le_furnishing.fit_transform(df[\"Furnishing\"])\n",
    "df[\"Furnishing\"].unique()"
   ]
  },
  {
   "cell_type": "code",
   "execution_count": 58,
   "id": "a87e4d99",
   "metadata": {},
   "outputs": [
    {
     "data": {
      "text/plain": [
       "array([ 8, 28, 20, 12, 29, 30, 17, 19,  4, 23, 34, 33, 25, 35, 31, 32, 14,\n",
       "        9, 13, 18,  2, 16, 11, 26, 15,  1, 10,  3, 21,  0, 22,  7, 27,  5,\n",
       "       24,  6])"
      ]
     },
     "execution_count": 58,
     "metadata": {},
     "output_type": "execute_result"
    }
   ],
   "source": [
    "le_locality = LabelEncoder()\n",
    "df[\"Locality\"]=le_locality.fit_transform(df[\"Locality\"])\n",
    "df[\"Locality\"].unique()"
   ]
  },
  {
   "cell_type": "code",
   "execution_count": 59,
   "id": "0f3336a0",
   "metadata": {},
   "outputs": [],
   "source": [
    "df.Parking=df.Parking.astype('int')"
   ]
  },
  {
   "cell_type": "code",
   "execution_count": 60,
   "id": "88e66880",
   "metadata": {},
   "outputs": [
    {
     "data": {
      "text/plain": [
       "Locality                int32\n",
       "Type                    int32\n",
       "Rent/Month              int64\n",
       "Build_up_area(sq.ft)    int32\n",
       "Furnishing              int32\n",
       "Bathrooms               int32\n",
       "Balcony                 int32\n",
       "Parking                 int32\n",
       "dtype: object"
      ]
     },
     "execution_count": 60,
     "metadata": {},
     "output_type": "execute_result"
    }
   ],
   "source": [
    "df.dtypes"
   ]
  },
  {
   "cell_type": "code",
   "execution_count": 61,
   "id": "bcc874f0",
   "metadata": {},
   "outputs": [],
   "source": [
    "X=df.copy()"
   ]
  },
  {
   "cell_type": "code",
   "execution_count": 62,
   "id": "08fbf24e",
   "metadata": {},
   "outputs": [],
   "source": [
    "X.drop('Rent/Month', axis=1, inplace=True)"
   ]
  },
  {
   "cell_type": "code",
   "execution_count": 63,
   "id": "a530bb33",
   "metadata": {},
   "outputs": [
    {
     "data": {
      "text/html": [
       "<div>\n",
       "<style scoped>\n",
       "    .dataframe tbody tr th:only-of-type {\n",
       "        vertical-align: middle;\n",
       "    }\n",
       "\n",
       "    .dataframe tbody tr th {\n",
       "        vertical-align: top;\n",
       "    }\n",
       "\n",
       "    .dataframe thead th {\n",
       "        text-align: right;\n",
       "    }\n",
       "</style>\n",
       "<table border=\"1\" class=\"dataframe\">\n",
       "  <thead>\n",
       "    <tr style=\"text-align: right;\">\n",
       "      <th></th>\n",
       "      <th>Locality</th>\n",
       "      <th>Type</th>\n",
       "      <th>Build_up_area(sq.ft)</th>\n",
       "      <th>Furnishing</th>\n",
       "      <th>Bathrooms</th>\n",
       "      <th>Balcony</th>\n",
       "      <th>Parking</th>\n",
       "    </tr>\n",
       "  </thead>\n",
       "  <tbody>\n",
       "    <tr>\n",
       "      <th>0</th>\n",
       "      <td>8</td>\n",
       "      <td>3</td>\n",
       "      <td>1500</td>\n",
       "      <td>1</td>\n",
       "      <td>3</td>\n",
       "      <td>3</td>\n",
       "      <td>1</td>\n",
       "    </tr>\n",
       "    <tr>\n",
       "      <th>1</th>\n",
       "      <td>8</td>\n",
       "      <td>3</td>\n",
       "      <td>2200</td>\n",
       "      <td>0</td>\n",
       "      <td>3</td>\n",
       "      <td>1</td>\n",
       "      <td>2</td>\n",
       "    </tr>\n",
       "    <tr>\n",
       "      <th>2</th>\n",
       "      <td>8</td>\n",
       "      <td>3</td>\n",
       "      <td>2250</td>\n",
       "      <td>1</td>\n",
       "      <td>4</td>\n",
       "      <td>1</td>\n",
       "      <td>0</td>\n",
       "    </tr>\n",
       "    <tr>\n",
       "      <th>3</th>\n",
       "      <td>8</td>\n",
       "      <td>3</td>\n",
       "      <td>2880</td>\n",
       "      <td>1</td>\n",
       "      <td>4</td>\n",
       "      <td>1</td>\n",
       "      <td>0</td>\n",
       "    </tr>\n",
       "    <tr>\n",
       "      <th>4</th>\n",
       "      <td>8</td>\n",
       "      <td>3</td>\n",
       "      <td>2880</td>\n",
       "      <td>1</td>\n",
       "      <td>3</td>\n",
       "      <td>1</td>\n",
       "      <td>2</td>\n",
       "    </tr>\n",
       "    <tr>\n",
       "      <th>...</th>\n",
       "      <td>...</td>\n",
       "      <td>...</td>\n",
       "      <td>...</td>\n",
       "      <td>...</td>\n",
       "      <td>...</td>\n",
       "      <td>...</td>\n",
       "      <td>...</td>\n",
       "    </tr>\n",
       "    <tr>\n",
       "      <th>8715</th>\n",
       "      <td>7</td>\n",
       "      <td>1</td>\n",
       "      <td>180</td>\n",
       "      <td>1</td>\n",
       "      <td>1</td>\n",
       "      <td>1</td>\n",
       "      <td>0</td>\n",
       "    </tr>\n",
       "    <tr>\n",
       "      <th>8716</th>\n",
       "      <td>7</td>\n",
       "      <td>1</td>\n",
       "      <td>180</td>\n",
       "      <td>1</td>\n",
       "      <td>1</td>\n",
       "      <td>1</td>\n",
       "      <td>0</td>\n",
       "    </tr>\n",
       "    <tr>\n",
       "      <th>8717</th>\n",
       "      <td>27</td>\n",
       "      <td>1</td>\n",
       "      <td>300</td>\n",
       "      <td>1</td>\n",
       "      <td>1</td>\n",
       "      <td>1</td>\n",
       "      <td>0</td>\n",
       "    </tr>\n",
       "    <tr>\n",
       "      <th>8718</th>\n",
       "      <td>7</td>\n",
       "      <td>1</td>\n",
       "      <td>151</td>\n",
       "      <td>1</td>\n",
       "      <td>1</td>\n",
       "      <td>1</td>\n",
       "      <td>1</td>\n",
       "    </tr>\n",
       "    <tr>\n",
       "      <th>8719</th>\n",
       "      <td>27</td>\n",
       "      <td>1</td>\n",
       "      <td>400</td>\n",
       "      <td>1</td>\n",
       "      <td>1</td>\n",
       "      <td>1</td>\n",
       "      <td>0</td>\n",
       "    </tr>\n",
       "  </tbody>\n",
       "</table>\n",
       "<p>8720 rows × 7 columns</p>\n",
       "</div>"
      ],
      "text/plain": [
       "      Locality  Type  Build_up_area(sq.ft)  Furnishing  Bathrooms  Balcony  \\\n",
       "0            8     3                  1500           1          3        3   \n",
       "1            8     3                  2200           0          3        1   \n",
       "2            8     3                  2250           1          4        1   \n",
       "3            8     3                  2880           1          4        1   \n",
       "4            8     3                  2880           1          3        1   \n",
       "...        ...   ...                   ...         ...        ...      ...   \n",
       "8715         7     1                   180           1          1        1   \n",
       "8716         7     1                   180           1          1        1   \n",
       "8717        27     1                   300           1          1        1   \n",
       "8718         7     1                   151           1          1        1   \n",
       "8719        27     1                   400           1          1        1   \n",
       "\n",
       "      Parking  \n",
       "0           1  \n",
       "1           2  \n",
       "2           0  \n",
       "3           0  \n",
       "4           2  \n",
       "...       ...  \n",
       "8715        0  \n",
       "8716        0  \n",
       "8717        0  \n",
       "8718        1  \n",
       "8719        0  \n",
       "\n",
       "[8720 rows x 7 columns]"
      ]
     },
     "execution_count": 63,
     "metadata": {},
     "output_type": "execute_result"
    }
   ],
   "source": [
    "X"
   ]
  },
  {
   "cell_type": "code",
   "execution_count": 64,
   "id": "3efe747f",
   "metadata": {},
   "outputs": [],
   "source": [
    "Y=df['Rent/Month']"
   ]
  },
  {
   "cell_type": "code",
   "execution_count": 65,
   "id": "d5732c1a",
   "metadata": {},
   "outputs": [
    {
     "data": {
      "text/plain": [
       "0       500000\n",
       "1       500000\n",
       "2       450000\n",
       "3       450000\n",
       "4       425000\n",
       "         ...  \n",
       "8715      7000\n",
       "8716      7000\n",
       "8717     13000\n",
       "8718      7000\n",
       "8719     13000\n",
       "Name: Rent/Month, Length: 8720, dtype: int64"
      ]
     },
     "execution_count": 65,
     "metadata": {},
     "output_type": "execute_result"
    }
   ],
   "source": [
    "Y"
   ]
  },
  {
   "cell_type": "code",
   "execution_count": 66,
   "id": "c4ef656a",
   "metadata": {},
   "outputs": [],
   "source": [
    "from sklearn.model_selection import train_test_split\n",
    "\n",
    "X_train,X_test,Y_train,Y_test = train_test_split(X,Y,test_size=0.2,random_state=10)"
   ]
  },
  {
   "cell_type": "markdown",
   "id": "cfc56a76",
   "metadata": {},
   "source": [
    "# Modelling"
   ]
  },
  {
   "cell_type": "markdown",
   "id": "5e74fa78",
   "metadata": {},
   "source": [
    "#### Linear Regression"
   ]
  },
  {
   "cell_type": "code",
   "execution_count": 67,
   "id": "74b60d1d",
   "metadata": {},
   "outputs": [],
   "source": [
    "from sklearn.linear_model import LinearRegression\n",
    "lr=LinearRegression()\n",
    "lr.fit(X_train,Y_train)\n",
    "Y_pred=lr.predict(X_test)"
   ]
  },
  {
   "cell_type": "code",
   "execution_count": 68,
   "id": "63f1bd1e",
   "metadata": {},
   "outputs": [
    {
     "name": "stdout",
     "output_type": "stream",
     "text": [
      "Score -> 0.6622195141644949\n",
      "RMSE -> 24236.073578745578\n"
     ]
    }
   ],
   "source": [
    "# Evaluation\n",
    "from sklearn.metrics import r2_score,mean_squared_error\n",
    "import numpy as np\n",
    "\n",
    "lracc = r2_score(Y_test,Y_pred)\n",
    "print('Score ->',lracc)\n",
    "\n",
    "lrrmse = np.sqrt(mean_squared_error(Y_test,Y_pred))\n",
    "print('RMSE ->',lrrmse)"
   ]
  },
  {
   "cell_type": "markdown",
   "id": "9d114021",
   "metadata": {},
   "source": [
    "#### Decision Tree"
   ]
  },
  {
   "cell_type": "code",
   "execution_count": 69,
   "id": "3f484d19",
   "metadata": {},
   "outputs": [],
   "source": [
    "from sklearn.tree import DecisionTreeRegressor\n",
    "dtr=DecisionTreeRegressor()\n",
    "dtr.fit(X_train, Y_train)\n",
    "Y_pred1=dtr.predict(X_test)"
   ]
  },
  {
   "cell_type": "code",
   "execution_count": 70,
   "id": "2a824f51",
   "metadata": {},
   "outputs": [
    {
     "name": "stdout",
     "output_type": "stream",
     "text": [
      "Score -> 0.9663584056360333\n",
      "RMSE -> 7648.6232497215715\n"
     ]
    }
   ],
   "source": [
    "dtracc = r2_score(Y_test,Y_pred1)\n",
    "print('Score ->',dtracc)\n",
    "\n",
    "dtrrmse = np.sqrt(mean_squared_error(Y_test,Y_pred1))\n",
    "print('RMSE ->',dtrrmse)"
   ]
  },
  {
   "cell_type": "markdown",
   "id": "629335cc",
   "metadata": {},
   "source": [
    "#### Random Forest"
   ]
  },
  {
   "cell_type": "code",
   "execution_count": 71,
   "id": "9e198c0f",
   "metadata": {},
   "outputs": [],
   "source": [
    "from sklearn.ensemble import RandomForestRegressor\n",
    "\n",
    "rf=RandomForestRegressor(n_estimators=101,min_samples_split=15,max_features='auto',min_samples_leaf=2,\n",
    "                                        criterion='mae')\n",
    "rf.fit(X_train,Y_train)\n",
    "Y_pred2=rf.predict(X_test)"
   ]
  },
  {
   "cell_type": "code",
   "execution_count": 72,
   "id": "ee1fc67a",
   "metadata": {},
   "outputs": [
    {
     "name": "stdout",
     "output_type": "stream",
     "text": [
      "Score -> 0.9730556022669562\n",
      "RMSE -> 6845.090976280277\n"
     ]
    }
   ],
   "source": [
    "rfacc = r2_score(Y_test,Y_pred2)\n",
    "print('Score ->',rfacc)\n",
    "\n",
    "rfrmse = np.sqrt(mean_squared_error(Y_test,Y_pred2))\n",
    "print('RMSE ->',rfrmse)"
   ]
  },
  {
   "cell_type": "markdown",
   "id": "e9d86ccd",
   "metadata": {},
   "source": [
    "#### Gradient Boosting Regressor"
   ]
  },
  {
   "cell_type": "code",
   "execution_count": 73,
   "id": "3a683a7e",
   "metadata": {},
   "outputs": [],
   "source": [
    "from sklearn.ensemble import GradientBoostingRegressor\n",
    "\n",
    "gb=GradientBoostingRegressor(n_estimators=200,min_samples_split=2,min_samples_leaf=2,\n",
    "                                            max_features='auto',loss='ls',learning_rate=0.5,criterion='mae')\n",
    "#fit the model on the data and predict the values\n",
    "gb.fit(X_train,Y_train)\n",
    "\n",
    "Y_pred3=gb.predict(X_test)"
   ]
  },
  {
   "cell_type": "code",
   "execution_count": 74,
   "id": "bca412ea",
   "metadata": {},
   "outputs": [
    {
     "name": "stdout",
     "output_type": "stream",
     "text": [
      "Score -> 0.9580871567305053\n",
      "RMSE -> 8537.260747661636\n"
     ]
    }
   ],
   "source": [
    "gbacc = r2_score(Y_test,Y_pred3)\n",
    "print('Score ->',gbacc)\n",
    "\n",
    "gbrmse = np.sqrt(mean_squared_error(Y_test,Y_pred3))\n",
    "print('RMSE ->',gbrmse)"
   ]
  },
  {
   "cell_type": "markdown",
   "id": "891d7e92",
   "metadata": {},
   "source": [
    "#### ExtraTree Regressor"
   ]
  },
  {
   "cell_type": "code",
   "execution_count": 75,
   "id": "dbb12db2",
   "metadata": {},
   "outputs": [],
   "source": [
    "from sklearn.ensemble import ExtraTreesRegressor\n",
    "\n",
    "et=ExtraTreesRegressor(n_estimators=100,min_samples_split=3,min_samples_leaf=1,max_features='log2',\n",
    "                                      criterion='mae')\n",
    "\n",
    "#fit the model on the data and predict the values\n",
    "et.fit(X_train,Y_train)\n",
    "\n",
    "Y_pred4=et.predict(X_test)\n"
   ]
  },
  {
   "cell_type": "code",
   "execution_count": 76,
   "id": "a3957407",
   "metadata": {},
   "outputs": [
    {
     "name": "stdout",
     "output_type": "stream",
     "text": [
      "Score -> 0.9028993752318913\n",
      "RMSE -> 12994.392972690728\n"
     ]
    }
   ],
   "source": [
    "etacc = r2_score(Y_test,Y_pred4)\n",
    "print('Score ->',etacc)\n",
    "\n",
    "etrmse = np.sqrt(mean_squared_error(Y_test,Y_pred4))\n",
    "print('RMSE ->',etrmse)"
   ]
  },
  {
   "cell_type": "markdown",
   "id": "ee9e19dd",
   "metadata": {},
   "source": [
    "##### Comparison of Models"
   ]
  },
  {
   "cell_type": "code",
   "execution_count": 77,
   "id": "3be9cdb5",
   "metadata": {},
   "outputs": [],
   "source": [
    "performance_df = pd.DataFrame([[lracc,dtracc,rfacc,gbacc,etacc],[lrrmse,dtrrmse,rfrmse,gbrmse,etrmse]]).T"
   ]
  },
  {
   "cell_type": "code",
   "execution_count": 78,
   "id": "93bbc15e",
   "metadata": {},
   "outputs": [],
   "source": [
    "performance_df.columns = ['Accuracy','RMSE']\n",
    "performance_df.index = ['Logistic Regression','Decision Tree','Extra Tree','Random Forest','Gradient Boost']"
   ]
  },
  {
   "cell_type": "code",
   "execution_count": 79,
   "id": "87b6f3b3",
   "metadata": {},
   "outputs": [
    {
     "data": {
      "text/html": [
       "<div>\n",
       "<style scoped>\n",
       "    .dataframe tbody tr th:only-of-type {\n",
       "        vertical-align: middle;\n",
       "    }\n",
       "\n",
       "    .dataframe tbody tr th {\n",
       "        vertical-align: top;\n",
       "    }\n",
       "\n",
       "    .dataframe thead th {\n",
       "        text-align: right;\n",
       "    }\n",
       "</style>\n",
       "<table border=\"1\" class=\"dataframe\">\n",
       "  <thead>\n",
       "    <tr style=\"text-align: right;\">\n",
       "      <th></th>\n",
       "      <th>Accuracy</th>\n",
       "      <th>RMSE</th>\n",
       "    </tr>\n",
       "  </thead>\n",
       "  <tbody>\n",
       "    <tr>\n",
       "      <th>Logistic Regression</th>\n",
       "      <td>0.662220</td>\n",
       "      <td>24236.073579</td>\n",
       "    </tr>\n",
       "    <tr>\n",
       "      <th>Decision Tree</th>\n",
       "      <td>0.966358</td>\n",
       "      <td>7648.623250</td>\n",
       "    </tr>\n",
       "    <tr>\n",
       "      <th>Extra Tree</th>\n",
       "      <td>0.973056</td>\n",
       "      <td>6845.090976</td>\n",
       "    </tr>\n",
       "    <tr>\n",
       "      <th>Random Forest</th>\n",
       "      <td>0.958087</td>\n",
       "      <td>8537.260748</td>\n",
       "    </tr>\n",
       "    <tr>\n",
       "      <th>Gradient Boost</th>\n",
       "      <td>0.902899</td>\n",
       "      <td>12994.392973</td>\n",
       "    </tr>\n",
       "  </tbody>\n",
       "</table>\n",
       "</div>"
      ],
      "text/plain": [
       "                     Accuracy          RMSE\n",
       "Logistic Regression  0.662220  24236.073579\n",
       "Decision Tree        0.966358   7648.623250\n",
       "Extra Tree           0.973056   6845.090976\n",
       "Random Forest        0.958087   8537.260748\n",
       "Gradient Boost       0.902899  12994.392973"
      ]
     },
     "execution_count": 79,
     "metadata": {},
     "output_type": "execute_result"
    }
   ],
   "source": [
    "performance_df"
   ]
  },
  {
   "cell_type": "code",
   "execution_count": 80,
   "id": "a799ade3",
   "metadata": {},
   "outputs": [
    {
     "data": {
      "text/html": [
       "<div>\n",
       "<style scoped>\n",
       "    .dataframe tbody tr th:only-of-type {\n",
       "        vertical-align: middle;\n",
       "    }\n",
       "\n",
       "    .dataframe tbody tr th {\n",
       "        vertical-align: top;\n",
       "    }\n",
       "\n",
       "    .dataframe thead th {\n",
       "        text-align: right;\n",
       "    }\n",
       "</style>\n",
       "<table border=\"1\" class=\"dataframe\">\n",
       "  <thead>\n",
       "    <tr style=\"text-align: right;\">\n",
       "      <th></th>\n",
       "      <th>Accuracy</th>\n",
       "      <th>RMSE</th>\n",
       "    </tr>\n",
       "  </thead>\n",
       "  <tbody>\n",
       "    <tr>\n",
       "      <th>Extra Tree</th>\n",
       "      <td>0.973056</td>\n",
       "      <td>6845.090976</td>\n",
       "    </tr>\n",
       "    <tr>\n",
       "      <th>Decision Tree</th>\n",
       "      <td>0.966358</td>\n",
       "      <td>7648.623250</td>\n",
       "    </tr>\n",
       "    <tr>\n",
       "      <th>Random Forest</th>\n",
       "      <td>0.958087</td>\n",
       "      <td>8537.260748</td>\n",
       "    </tr>\n",
       "    <tr>\n",
       "      <th>Gradient Boost</th>\n",
       "      <td>0.902899</td>\n",
       "      <td>12994.392973</td>\n",
       "    </tr>\n",
       "    <tr>\n",
       "      <th>Logistic Regression</th>\n",
       "      <td>0.662220</td>\n",
       "      <td>24236.073579</td>\n",
       "    </tr>\n",
       "  </tbody>\n",
       "</table>\n",
       "</div>"
      ],
      "text/plain": [
       "                     Accuracy          RMSE\n",
       "Extra Tree           0.973056   6845.090976\n",
       "Decision Tree        0.966358   7648.623250\n",
       "Random Forest        0.958087   8537.260748\n",
       "Gradient Boost       0.902899  12994.392973\n",
       "Logistic Regression  0.662220  24236.073579"
      ]
     },
     "execution_count": 80,
     "metadata": {},
     "output_type": "execute_result"
    }
   ],
   "source": [
    "performance_df.sort_values(by='RMSE')"
   ]
  },
  {
   "cell_type": "code",
   "execution_count": 81,
   "id": "fef41110",
   "metadata": {},
   "outputs": [
    {
     "data": {
      "text/plain": [
       "Extra Tree             0.973056\n",
       "Decision Tree          0.966358\n",
       "Random Forest          0.958087\n",
       "Gradient Boost         0.902899\n",
       "Logistic Regression    0.662220\n",
       "Name: Accuracy, dtype: float64"
      ]
     },
     "execution_count": 81,
     "metadata": {},
     "output_type": "execute_result"
    }
   ],
   "source": [
    "performance_df.Accuracy.sort_values(ascending=False)"
   ]
  },
  {
   "cell_type": "code",
   "execution_count": 82,
   "id": "828a8fa1",
   "metadata": {},
   "outputs": [
    {
     "data": {
      "text/plain": [
       "Text(0.5, 1.0, 'RMSE')"
      ]
     },
     "execution_count": 82,
     "metadata": {},
     "output_type": "execute_result"
    },
    {
     "data": {
      "image/png": "[encoded data removed]",
      "text/plain": [
       "<Figure size 1512x432 with 2 Axes>"
      ]
     },
     "metadata": {
      "needs_background": "light"
     },
     "output_type": "display_data"
    }
   ],
   "source": [
    "plt.figure(figsize=(21,6))\n",
    "plt.subplot(1,2,1)\n",
    "sns.barplot(x=performance_df.Accuracy.sort_values(ascending=False).values,y=performance_df.Accuracy.sort_values(ascending=False).index)\n",
    "plt.title('Accuracy')\n",
    "plt.subplot(1,2,2)\n",
    "sns.barplot(x=performance_df.RMSE.sort_values(ascending=True).values,y=performance_df.RMSE.sort_values(ascending=True).index)\n",
    "plt.title('RMSE')"
   ]
  },
  {
   "cell_type": "markdown",
   "id": "8d301bdb",
   "metadata": {},
   "source": [
    "#### Voting Classifier"
   ]
  },
  {
   "cell_type": "code",
   "execution_count": 83,
   "id": "29c8fa73",
   "metadata": {},
   "outputs": [],
   "source": [
    "from sklearn.ensemble import VotingRegressor\n",
    "\n",
    "model_list = [('dtr',dtr),('et',et),('rf',rf)]\n",
    "# create the sub models\n",
    "estimators = model_list\n",
    "\n",
    "# create the ensemble model\n",
    "ensemble = VotingRegressor(estimators)\n",
    "ensemble.fit(X_train,Y_train)\n",
    "Y_pred=ensemble.predict(X_test)"
   ]
  },
  {
   "cell_type": "code",
   "execution_count": 84,
   "id": "eb5682f4",
   "metadata": {},
   "outputs": [
    {
     "name": "stdout",
     "output_type": "stream",
     "text": [
      "Score -> 0.9743922209767368\n",
      "RMSE -> 6673.1508291345535\n"
     ]
    }
   ],
   "source": [
    "vcacc = r2_score(Y_test,Y_pred)\n",
    "print('Score ->',vcacc)\n",
    "\n",
    "vcrmse = np.sqrt(mean_squared_error(Y_test,Y_pred))\n",
    "print('RMSE ->',vcrmse)"
   ]
  },
  {
   "cell_type": "code",
   "execution_count": 85,
   "id": "8ff6da4d",
   "metadata": {},
   "outputs": [
    {
     "data": {
      "text/plain": [
       "(0.0, 310000.0)"
      ]
     },
     "execution_count": 85,
     "metadata": {},
     "output_type": "execute_result"
    },
    {
     "data": {
      "image/png": "[encoded data removed]",
      "text/plain": [
       "<Figure size 432x288 with 1 Axes>"
      ]
     },
     "metadata": {
      "needs_background": "light"
     },
     "output_type": "display_data"
    }
   ],
   "source": [
    "sns.scatterplot(x=Y_test,y=Y_pred)\n",
    "plt.xlim(0,410000)\n",
    "plt.ylim(0,310000)"
   ]
  },
  {
   "cell_type": "code",
   "execution_count": 86,
   "id": "e0af5476",
   "metadata": {},
   "outputs": [
    {
     "data": {
      "text/plain": [
       "<AxesSubplot:xlabel='Rent/Month', ylabel='Density'>"
      ]
     },
     "execution_count": 86,
     "metadata": {},
     "output_type": "execute_result"
    },
    {
     "data": {
      "image/png": "[encoded data removed]",
      "text/plain": [
       "<Figure size 432x288 with 1 Axes>"
      ]
     },
     "metadata": {
      "needs_background": "light"
     },
     "output_type": "display_data"
    }
   ],
   "source": [
    "sns.distplot(Y_test-Y_pred)"
   ]
  },
  {
   "cell_type": "markdown",
   "id": "c8ad9db8",
   "metadata": {},
   "source": [
    "###### Dump Model"
   ]
  },
  {
   "cell_type": "code",
   "execution_count": 87,
   "id": "c1503ea2",
   "metadata": {},
   "outputs": [
    {
     "name": "stdout",
     "output_type": "stream",
     "text": [
      "Done\n"
     ]
    }
   ],
   "source": [
    "import pickle\n",
    "pickle.dump(ensemble,open('FinalModel.pkl','wb'))\n",
    "print('Done')"
   ]
  },
  {
   "cell_type": "code",
   "execution_count": null,
   "id": "5abdf823",
   "metadata": {},
   "outputs": [],
   "source": []
  }
 ],
 "metadata": {
  "kernelspec": {
   "display_name": "Python 3 (ipykernel)",
   "language": "python",
   "name": "python3"
  },
  "language_info": {
   "codemirror_mode": {
    "name": "ipython",
    "version": 3
   },
   "file_extension": ".py",
   "mimetype": "text/x-python",
   "name": "python",
   "nbconvert_exporter": "python",
   "pygments_lexer": "ipython3",
   "version": "3.9.7"
  }
 },
 "nbformat": 4,
 "nbformat_minor": 5
}
